{
 "cells": [
  {
   "cell_type": "code",
   "execution_count": 1,
   "id": "3962a1a3",
   "metadata": {},
   "outputs": [],
   "source": [
    "from openai import OpenAI"
   ]
  },
  {
   "cell_type": "code",
   "execution_count": 2,
   "id": "35b9c77b",
   "metadata": {},
   "outputs": [],
   "source": [
    "client = OpenAI()"
   ]
  },
  {
   "cell_type": "code",
   "execution_count": 3,
   "id": "9651c5b0",
   "metadata": {},
   "outputs": [
    {
     "data": {
      "text/plain": [
       "FileObject(id='file-4hKfCBfaqy5xmQbr9q9GgM', bytes=375230, created_at=1750702721, filename='test.jsonl', object='file', purpose='fine-tune', status='processed', expires_at=None, status_details=None)"
      ]
     },
     "execution_count": 3,
     "metadata": {},
     "output_type": "execute_result"
    }
   ],
   "source": [
    "client.files.create(file=open(\"test.jsonl\",\"rb\"),\n",
    "                    purpose=\"fine-tune\")"
   ]
  },
  {
   "cell_type": "code",
   "execution_count": 4,
   "id": "a2d4903f",
   "metadata": {},
   "outputs": [
    {
     "data": {
      "text/plain": [
       "SyncCursorPage[FileObject](data=[FileObject(id='file-4hKfCBfaqy5xmQbr9q9GgM', bytes=375230, created_at=1750702721, filename='test.jsonl', object='file', purpose='fine-tune', status='processed', expires_at=None, status_details=None), FileObject(id='file-RcF4ZCWrtWxLpK4kJJ5nJB', bytes=375230, created_at=1750702465, filename='test.jsonl', object='file', purpose='fine-tune', status='processed', expires_at=None, status_details=None), FileObject(id='file-BxYY1mmKfVEfhPAMAKZ18V', bytes=375230, created_at=1750702317, filename='test.jsonl', object='file', purpose='fine-tune', status='processed', expires_at=None, status_details=None), FileObject(id='file-BTei3WtKPjPdd88kiPowPq', bytes=375230, created_at=1750702188, filename='test.jsonl', object='file', purpose='fine-tune', status='processed', expires_at=None, status_details=None), FileObject(id='file-QmajLM8ioCE3JX1znfoTiy', bytes=3508, created_at=1750551272, filename='step_metrics.csv', object='file', purpose='fine-tune-results', status='processed', expires_at=None, status_details=None), FileObject(id='file-FuyyZNLnUnMF6f2PFUT6cp', bytes=376849, created_at=1750547588, filename='train.jsonl', object='file', purpose='fine-tune', status='processed', expires_at=None, status_details=None), FileObject(id='file-LRPPzBEokV9n2jd3tQf5Ko', bytes=375230, created_at=1750547525, filename='test.jsonl', object='file', purpose='fine-tune', status='processed', expires_at=None, status_details=None)], has_more=False, object='list', first_id='file-4hKfCBfaqy5xmQbr9q9GgM', last_id='file-LRPPzBEokV9n2jd3tQf5Ko')"
      ]
     },
     "execution_count": 4,
     "metadata": {},
     "output_type": "execute_result"
    }
   ],
   "source": [
    "client.files.list()"
   ]
  },
  {
   "cell_type": "code",
   "execution_count": 5,
   "id": "34a5346d",
   "metadata": {},
   "outputs": [
    {
     "data": {
      "text/plain": [
       "FileObject(id='file-FuyyZNLnUnMF6f2PFUT6cp', bytes=376849, created_at=1750547588, filename='train.jsonl', object='file', purpose='fine-tune', status='processed', expires_at=None, status_details=None)"
      ]
     },
     "execution_count": 5,
     "metadata": {},
     "output_type": "execute_result"
    }
   ],
   "source": [
    "client.files.retrieve(\"file-FuyyZNLnUnMF6f2PFUT6cp\")"
   ]
  },
  {
   "cell_type": "code",
   "execution_count": 6,
   "id": "ad638f69",
   "metadata": {},
   "outputs": [
    {
     "data": {
      "text/plain": [
       "FineTuningJob(id='ftjob-U69daB6Z7fKvqOlZse1p6wsz', created_at=1750702734, error=Error(code=None, message=None, param=None), fine_tuned_model=None, finished_at=None, hyperparameters=Hyperparameters(batch_size='auto', learning_rate_multiplier='auto', n_epochs=1), model='gpt-3.5-turbo-0125', object='fine_tuning.job', organization_id='org-LMvv1vETn76SbZtbAyivUK3C', result_files=[], seed=1273536205, status='validating_files', trained_tokens=None, training_file='file-FuyyZNLnUnMF6f2PFUT6cp', validation_file='file-LRPPzBEokV9n2jd3tQf5Ko', estimated_finish=None, integrations=[], metadata=None, method=Method(type='supervised', dpo=None, reinforcement=None, supervised=SupervisedMethod(hyperparameters=SupervisedHyperparameters(batch_size='auto', learning_rate_multiplier='auto', n_epochs=1))), user_provided_suffix=None, usage_metrics=None, shared_with_openai=False, eval_id=None)"
      ]
     },
     "execution_count": 6,
     "metadata": {},
     "output_type": "execute_result"
    }
   ],
   "source": [
    "client.fine_tuning.jobs.create(model='gpt-3.5-turbo',\n",
    "                                training_file='file-FuyyZNLnUnMF6f2PFUT6cp',\n",
    "                                hyperparameters={\n",
    "                                   \"n_epochs\":1\n",
    "                               },\n",
    "                               validation_file='file-LRPPzBEokV9n2jd3tQf5Ko')"
   ]
  },
  {
   "cell_type": "code",
   "execution_count": 7,
   "id": "be68345c",
   "metadata": {},
   "outputs": [
    {
     "data": {
      "text/plain": [
       "SyncCursorPage[FineTuningJob](data=[FineTuningJob(id='ftjob-U69daB6Z7fKvqOlZse1p6wsz', created_at=1750702734, error=Error(code=None, message=None, param=None), fine_tuned_model=None, finished_at=None, hyperparameters=Hyperparameters(batch_size=1, learning_rate_multiplier=2.0, n_epochs=1), model='gpt-3.5-turbo-0125', object='fine_tuning.job', organization_id='org-LMvv1vETn76SbZtbAyivUK3C', result_files=[], seed=1273536205, status='validating_files', trained_tokens=None, training_file='file-FuyyZNLnUnMF6f2PFUT6cp', validation_file='file-LRPPzBEokV9n2jd3tQf5Ko', estimated_finish=None, integrations=[], metadata=None, method=Method(type='supervised', dpo=None, reinforcement=None, supervised=SupervisedMethod(hyperparameters=SupervisedHyperparameters(batch_size=1, learning_rate_multiplier=2.0, n_epochs=1))), user_provided_suffix=None, usage_metrics=None, shared_with_openai=False, eval_id=None), FineTuningJob(id='ftjob-GCz6spVFCPnUOW6ADkr7YinU', created_at=1750702502, error=Error(code=None, message=None, param=None), fine_tuned_model=None, finished_at=None, hyperparameters=Hyperparameters(batch_size=1, learning_rate_multiplier=2.0, n_epochs=1), model='gpt-3.5-turbo-0125', object='fine_tuning.job', organization_id='org-LMvv1vETn76SbZtbAyivUK3C', result_files=[], seed=76638121, status='running', trained_tokens=None, training_file='file-FuyyZNLnUnMF6f2PFUT6cp', validation_file='file-LRPPzBEokV9n2jd3tQf5Ko', estimated_finish=1750703025, integrations=[], metadata=None, method=Method(type='supervised', dpo=None, reinforcement=None, supervised=SupervisedMethod(hyperparameters=SupervisedHyperparameters(batch_size=1, learning_rate_multiplier=2.0, n_epochs=1))), user_provided_suffix=None, usage_metrics=None, shared_with_openai=False, eval_id=None), FineTuningJob(id='ftjob-OyrLrqJAJU4X9ltSGUqy7sSr', created_at=1750702328, error=Error(code=None, message=None, param=None), fine_tuned_model=None, finished_at=None, hyperparameters=Hyperparameters(batch_size=1, learning_rate_multiplier=2.0, n_epochs=1), model='gpt-3.5-turbo-0125', object='fine_tuning.job', organization_id='org-LMvv1vETn76SbZtbAyivUK3C', result_files=[], seed=1619928068, status='running', trained_tokens=None, training_file='file-FuyyZNLnUnMF6f2PFUT6cp', validation_file='file-LRPPzBEokV9n2jd3tQf5Ko', estimated_finish=1750702874, integrations=[], metadata=None, method=Method(type='supervised', dpo=None, reinforcement=None, supervised=SupervisedMethod(hyperparameters=SupervisedHyperparameters(batch_size=1, learning_rate_multiplier=2.0, n_epochs=1))), user_provided_suffix=None, usage_metrics=None, shared_with_openai=False, eval_id=None), FineTuningJob(id='ftjob-BTQdYuKErgZs98lqsElr03xB', created_at=1750702200, error=Error(code=None, message=None, param=None), fine_tuned_model=None, finished_at=1750702662, hyperparameters=Hyperparameters(batch_size=1, learning_rate_multiplier=2.0, n_epochs=1), model='gpt-3.5-turbo-0125', object='fine_tuning.job', organization_id='org-LMvv1vETn76SbZtbAyivUK3C', result_files=[], seed=251962706, status='running', trained_tokens=None, training_file='file-FuyyZNLnUnMF6f2PFUT6cp', validation_file='file-LRPPzBEokV9n2jd3tQf5Ko', estimated_finish=None, integrations=[], metadata=None, method=Method(type='supervised', dpo=None, reinforcement=None, supervised=SupervisedMethod(hyperparameters=SupervisedHyperparameters(batch_size=1, learning_rate_multiplier=2.0, n_epochs=1))), user_provided_suffix=None, usage_metrics=None, shared_with_openai=False, eval_id=None), FineTuningJob(id='ftjob-cD9MkZe1S7Eh3Vw6uKY2QQx3', created_at=1750549715, error=Error(code=None, message=None, param=None), fine_tuned_model='ft:gpt-3.5-turbo-0125:alameens::Bl2N8C3J', finished_at=1750550233, hyperparameters=Hyperparameters(batch_size=1, learning_rate_multiplier=2.0, n_epochs=1), model='gpt-3.5-turbo-0125', object='fine_tuning.job', organization_id='org-LMvv1vETn76SbZtbAyivUK3C', result_files=['file-QmajLM8ioCE3JX1znfoTiy'], seed=7366074, status='succeeded', trained_tokens=78991, training_file='file-FuyyZNLnUnMF6f2PFUT6cp', validation_file='file-LRPPzBEokV9n2jd3tQf5Ko', estimated_finish=None, integrations=[], metadata=None, method=Method(type='supervised', dpo=None, reinforcement=None, supervised=SupervisedMethod(hyperparameters=SupervisedHyperparameters(batch_size=1, learning_rate_multiplier=2.0, n_epochs=1))), user_provided_suffix=None, usage_metrics=None, shared_with_openai=False, eval_id=None)], has_more=False, object='list')"
      ]
     },
     "execution_count": 7,
     "metadata": {},
     "output_type": "execute_result"
    }
   ],
   "source": [
    "client.fine_tuning.jobs.list()"
   ]
  },
  {
   "cell_type": "code",
   "execution_count": 9,
   "id": "5b076d72",
   "metadata": {},
   "outputs": [
    {
     "name": "stdout",
     "output_type": "stream",
     "text": [
      "ChatCompletionMessage(content='tech', refusal=None, role='assistant', annotations=[], audio=None, function_call=None, tool_calls=None)\n"
     ]
    }
   ],
   "source": [
    "completion = client.chat.completions.create(\n",
    "  model=\"ft:gpt-3.5-turbo-0125:alameens::Bl2N8C3J\",\n",
    "  messages=[\n",
    "    {\"role\": \"system\", \"content\": \"Classify the articles into these categories: business, entertainment, politics, sport, tech.\" },\n",
    "    {\"role\": \"user\", \"content\": \"A new mobile phone is launched\"}\n",
    "  ]\n",
    ")\n",
    "print(completion.choices[0].message)"
   ]
  }
 ],
 "metadata": {
  "kernelspec": {
   "display_name": "llm_env",
   "language": "python",
   "name": "python3"
  },
  "language_info": {
   "codemirror_mode": {
    "name": "ipython",
    "version": 3
   },
   "file_extension": ".py",
   "mimetype": "text/x-python",
   "name": "python",
   "nbconvert_exporter": "python",
   "pygments_lexer": "ipython3",
   "version": "3.12.6"
  }
 },
 "nbformat": 4,
 "nbformat_minor": 5
}
