{
 "cells": [
  {
   "cell_type": "code",
   "execution_count": 1,
   "id": "3bc546df",
   "metadata": {},
   "outputs": [],
   "source": [
    "from openai import OpenAI\n",
    "import pandas as pd"
   ]
  },
  {
   "cell_type": "code",
   "execution_count": 2,
   "id": "d610f1da",
   "metadata": {},
   "outputs": [],
   "source": [
    "client = OpenAI()"
   ]
  },
  {
   "cell_type": "code",
   "execution_count": 3,
   "id": "441d492b",
   "metadata": {},
   "outputs": [],
   "source": [
    "df = pd.read_csv('dataset/test.csv', encoding='unicode_escape')"
   ]
  },
  {
   "cell_type": "code",
   "execution_count": null,
   "id": "738751e0",
   "metadata": {},
   "outputs": [
    {
     "name": "stdout",
     "output_type": "stream",
     "text": [
      "500\n"
     ]
    }
   ],
   "source": [
    "labels = df.iloc[:,1].tolist()\n",
    "texts = df.iloc[:,0].tolist()\n",
    "print(len(labels))"
   ]
  },
  {
   "cell_type": "code",
   "execution_count": 41,
   "id": "403b2abd",
   "metadata": {},
   "outputs": [
    {
     "name": "stdout",
     "output_type": "stream",
     "text": [
      "50\n"
     ]
    }
   ],
   "source": [
    "texts = texts[-50:]\n",
    "labels = labels[-50:]\n",
    "print(len(labels))"
   ]
  },
  {
   "cell_type": "code",
   "execution_count": 51,
   "id": "84ec1758",
   "metadata": {},
   "outputs": [],
   "source": [
    "def inference_for_eval(text, m):\n",
    "    completion = client.chat.completions.create(\n",
    "    model=m,\n",
    "    messages=[\n",
    "        {\"role\": \"system\", \"content\": \"You are a intelligent assistant designed to classify news articles into these categories: business, entertainment, politics, sport, tech.\"},\n",
    "        {\"role\": \"user\", \"content\": text}\n",
    "        ]\n",
    "    )\n",
    "    return completion.choices[0].message.content"
   ]
  },
  {
   "cell_type": "code",
   "execution_count": 52,
   "id": "09894c37",
   "metadata": {},
   "outputs": [],
   "source": [
    "output = [inference_for_eval(text,\"ft:gpt-3.5-turbo-0125:alameens::Bl2N8C3J\") for text in texts]"
   ]
  },
  {
   "cell_type": "code",
   "execution_count": 53,
   "id": "c7532029",
   "metadata": {},
   "outputs": [
    {
     "name": "stdout",
     "output_type": "stream",
     "text": [
      "['tech', 'sport', 'sport', 'politics', 'tech', 'politics', 'business', 'sport', 'sport', 'sport']\n"
     ]
    }
   ],
   "source": [
    "print(output[:10])"
   ]
  },
  {
   "cell_type": "code",
   "execution_count": 54,
   "id": "2fbef6d0",
   "metadata": {},
   "outputs": [],
   "source": [
    "correct_classifications = sum(classification ==label for classification, label in zip(output,labels))"
   ]
  },
  {
   "cell_type": "code",
   "execution_count": 55,
   "id": "a9cc70cc",
   "metadata": {},
   "outputs": [
    {
     "name": "stdout",
     "output_type": "stream",
     "text": [
      "50\n"
     ]
    }
   ],
   "source": [
    "total_classifications = len(labels)\n",
    "print(total_classifications)"
   ]
  },
  {
   "cell_type": "code",
   "execution_count": 56,
   "id": "def14e61",
   "metadata": {},
   "outputs": [
    {
     "name": "stdout",
     "output_type": "stream",
     "text": [
      "Accuracy:96.00%\n"
     ]
    }
   ],
   "source": [
    "accuracy_percentage = (correct_classifications/total_classifications)*100\n",
    "print(f\"Accuracy:{accuracy_percentage:.2f}%\")"
   ]
  }
 ],
 "metadata": {
  "kernelspec": {
   "display_name": "llm_env",
   "language": "python",
   "name": "python3"
  },
  "language_info": {
   "codemirror_mode": {
    "name": "ipython",
    "version": 3
   },
   "file_extension": ".py",
   "mimetype": "text/x-python",
   "name": "python",
   "nbconvert_exporter": "python",
   "pygments_lexer": "ipython3",
   "version": "3.12.6"
  }
 },
 "nbformat": 4,
 "nbformat_minor": 5
}
